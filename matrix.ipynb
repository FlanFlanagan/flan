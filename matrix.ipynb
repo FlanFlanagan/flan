{
 "cells": [
  {
   "cell_type": "code",
   "execution_count": 13,
   "metadata": {},
   "outputs": [],
   "source": [
    "import numpy as np\n",
    "import matplotlib.pyplot as plt"
   ]
  },
  {
   "cell_type": "code",
   "execution_count": 39,
   "metadata": {},
   "outputs": [],
   "source": [
    "t = 1\n",
    "rx1_track = [0]\n",
    "rx2_track = [0]\n",
    "s_track = [0]\n",
    "sn_track = [0]\n",
    "while t < 50:\n",
    "    rx1y = t\n",
    "    rx2y = 1/t\n",
    "    rx1 = [1, 0, 0, 0]\n",
    "    rx2 = [0, 1, 0 ,0]\n",
    "    s = [1, 1, -1.5, 0]\n",
    "    sn = [1, 1, 0, -3]\n",
    "    \n",
    "    a = np.array([rx1, rx2, s, sn])\n",
    "    p = t\n",
    "    b = [.5, .5, 0, 0]\n",
    "\n",
    "    sol = np.linalg.solve(a, b)\n",
    "    rx1_track.append(rx1_track[-1] + sol[0])\n",
    "    rx2_track.append(rx2_track[-1] + sol[1])\n",
    "    s_track.append(s_track[-1] + sol[2])\n",
    "    sn_track.append(sn_track[-1] + sol[3])\n",
    "    t += 1"
   ]
  },
  {
   "cell_type": "code",
   "execution_count": 40,
   "metadata": {},
   "outputs": [
    {
     "data": {
      "text/plain": [
       "[<matplotlib.lines.Line2D at 0x7f101bf2fef0>]"
      ]
     },
     "execution_count": 40,
     "metadata": {},
     "output_type": "execute_result"
    },
    {
     "data": {
      "image/png": "[encoded data removed]",
      "text/plain": [
       "<Figure size 432x288 with 1 Axes>"
      ]
     },
     "metadata": {
      "needs_background": "light"
     },
     "output_type": "display_data"
    }
   ],
   "source": [
    "x = np.linspace(0,50,50)\n",
    "plt.plot(x, rx1_track, 'r+')\n",
    "plt.plot(x, rx2_track, '-')\n",
    "plt.plot(x, s_track, 'b*')\n",
    "plt.plot(x, sn_track, 'o')"
   ]
  },
  {
   "cell_type": "code",
   "execution_count": 139,
   "metadata": {},
   "outputs": [
    {
     "name": "stdout",
     "output_type": "stream",
     "text": [
      "[30, 9, 15, 6]\n",
      "[[0, 1, 2, 2, 3, 3, 3, 4, 4, 5, 5, 5, 6, 6, 7, 7, 7, 8, 8, 9, 9, 9, 10, 10, 11, 11, 11, 12, 12, 13, 13, 13, 14, 14, 15, 15, 15, 16, 16, 17, 17, 17, 18, 18, 19, 19, 19, 20, 20, 21], [0, 0, 0, 0, 0, 0, 1, 1, 1, 1, 1, 2, 2, 2, 2, 2, 3, 3, 3, 3, 3, 4, 4, 4, 4, 4, 5, 5, 5, 5, 5, 6, 6, 6, 6, 6, 7, 7, 7, 7, 7, 8, 8, 8, 8, 8, 9, 9, 9, 9], [0, 1, 1, 1, 2, 2, 2, 3, 3, 3, 3, 4, 4, 4, 5, 5, 5, 6, 6, 6, 6, 7, 7, 7, 8, 8, 8, 9, 9, 9, 9, 10, 10, 10, 11, 11, 11, 12, 12, 12, 12, 13, 13, 13, 14, 14, 14, 15, 15, 15], [0, 1, 1, 1, 1, 1, 1, 1, 1, 2, 2, 2, 2, 2, 2, 2, 2, 3, 3, 3, 3, 3, 3, 3, 3, 4, 4, 4, 4, 4, 4, 4, 4, 4, 5, 5, 5, 5, 5, 5, 5, 5, 6, 6, 6, 6, 6, 6, 6, 6]]\n"
     ]
    }
   ],
   "source": [
    "t = 1\n",
    "rx1_ = 0\n",
    "rx2_ = 0\n",
    "s_ = 0\n",
    "sn_ = 0\n",
    "protos = [rx1_, rx2_, s_, sn_]\n",
    "rx1_track = [0]\n",
    "rx2_track = [0]\n",
    "s_track = [0]\n",
    "sn_track = [0]\n",
    "track = [rx1_track, rx2_track, s_track, sn_track]\n",
    "track1 = [0, 0, 0, 0]\n",
    "track2 = [[0],[0],[0],[0]]\n",
    "while t < 50:\n",
    "    # rx1*c1 + rx2*c2 = 1\n",
    "    # rx1*f1 - rx2*f2 = 0\n",
    "    # rx1*f1 - s*cs = 0\n",
    "    # rx2*f2 - sn*csn = 0\n",
    "    rx1 = [1, 2, 0, 0]\n",
    "    rx2 = [1, -3, 0, 0]\n",
    "    s = [1, 0, -2, 0]\n",
    "    sn = [0, 3, 0, -5]\n",
    "\n",
    "    a = np.array([rx1, rx2, s, sn])\n",
    "    b = [1, 0, 0, 0]\n",
    "\n",
    "    sol = np.linalg.solve(a, b)\n",
    "    for i in range(len(track)):\n",
    "        track[i].append(track[i][-1]+sol[i])\n",
    "        track2[i].append(track2[i][-1])\n",
    "        if i == 1:\n",
    "            if track[i][-1] > 1:\n",
    "                track[i][-1] = track[i][-1] -1\n",
    "                track1[i] += 1\n",
    "                track2[i][-1] += 1\n",
    "                track2[0][-1] -= 1\n",
    "        else:\n",
    "            if track[i][-1] > 0:\n",
    "                track[i][-1] = track[i][-1] -1\n",
    "                track1[i] += 1\n",
    "                track2[i][-1] += 1\n",
    "    t += 1\n",
    "print(track1)\n",
    "print(track2)"
   ]
  },
  {
   "cell_type": "code",
   "execution_count": 140,
   "metadata": {},
   "outputs": [
    {
     "data": {
      "text/plain": [
       "[<matplotlib.lines.Line2D at 0x7f101b6bbb38>]"
      ]
     },
     "execution_count": 140,
     "metadata": {},
     "output_type": "execute_result"
    },
    {
     "data": {
      "image/png": "[encoded data removed]",
      "text/plain": [
       "<Figure size 432x288 with 1 Axes>"
      ]
     },
     "metadata": {
      "needs_background": "light"
     },
     "output_type": "display_data"
    }
   ],
   "source": [
    "x = np.linspace(0,50,50)\n",
    "plt.plot(x, track2[0], 'r+')\n",
    "plt.plot(x, track2[1], '-')\n",
    "plt.plot(x, track2[2], 'b*')\n",
    "plt.plot(x, track2[3], 'o')"
   ]
  },
  {
   "cell_type": "code",
   "execution_count": 141,
   "metadata": {},
   "outputs": [
    {
     "name": "stdout",
     "output_type": "stream",
     "text": [
      "[ 0. -2. -2. -1. -3. -2. -1. -3. -2. -2. -1. -2. -2. -1. -3. -2. -1. -3.\n",
      " -2. -2. -1. -2. -2. -1. -3. -2. -1. -3. -2. -2. -1. -2. -2. -1. -3. -2.\n",
      " -1. -3. -2. -2. -1. -2. -2. -1. -3. -2. -1. -3. -2. -2.]\n"
     ]
    },
    {
     "data": {
      "image/png": "[encoded data removed]",
      "text/plain": [
       "<Figure size 432x288 with 1 Axes>"
      ]
     },
     "metadata": {
      "needs_background": "light"
     },
     "output_type": "display_data"
    }
   ],
   "source": [
    "p = []\n",
    "for i in range(len(rx1_track)):\n",
    "    p.append(track2[0][i] + track2[2][i]*2)\n",
    "p = np.array(p)\n",
    "p_a = np.linspace(0,49,50)\n",
    "p_a\n",
    "plt.plot(x, p, 'r+')\n",
    "plt.plot(x, p_a, 'b')\n",
    "diff = p_a - p\n",
    "print(diff)"
   ]
  },
  {
   "cell_type": "code",
   "execution_count": null,
   "metadata": {},
   "outputs": [],
   "source": []
  }
 ],
 "metadata": {
  "kernelspec": {
   "display_name": "Python 3",
   "language": "python",
   "name": "python3"
  },
  "language_info": {
   "codemirror_mode": {
    "name": "ipython",
    "version": 3
   },
   "file_extension": ".py",
   "mimetype": "text/x-python",
   "name": "python",
   "nbconvert_exporter": "python",
   "pygments_lexer": "ipython3",
   "version": "3.6.6"
  }
 },
 "nbformat": 4,
 "nbformat_minor": 2
}
